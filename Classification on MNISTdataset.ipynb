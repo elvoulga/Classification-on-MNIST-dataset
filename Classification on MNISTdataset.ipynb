{
 "cells": [
  {
   "cell_type": "markdown",
   "metadata": {},
   "source": [
    "## Classification on MNIST dataset - Voulgari Eleni\n",
    "\n",
    "### Step 1: Prepare Project\n",
    "\n",
    "   1. Load libraries\n",
    "   2. Load dataset"
   ]
  },
  {
   "cell_type": "code",
   "execution_count": 50,
   "metadata": {},
   "outputs": [],
   "source": [
    "import pandas as pd\n",
    "import numpy as np\n",
    "from sklearn.model_selection import train_test_split\n",
    "from sklearn.model_selection import cross_val_score\n",
    "from sklearn.ensemble import RandomForestClassifier\n",
    "from sklearn.svm import SVC\n",
    "from sklearn.neighbors import KNeighborsClassifier\n",
    "from sklearn.metrics import accuracy_score\n",
    "from sklearn.metrics import f1_score\n",
    "from sklearn.linear_model import LogisticRegression\n",
    "from sklearn.naive_bayes import GaussianNB\n",
    "from sklearn.discriminant_analysis import LinearDiscriminantAnalysis\n",
    "from sklearn.preprocessing import StandardScaler\n",
    "from sklearn.grid_search import GridSearchCV\n",
    "from pandas.plotting import scatter_matrix\n",
    "from sklearn.preprocessing import Normalizer\n",
    "from sklearn.decomposition import PCA\n",
    "from sklearn.model_selection import KFold\n",
    "from sklearn.ensemble import VotingClassifier"
   ]
  },
  {
   "cell_type": "code",
   "execution_count": 4,
   "metadata": {
    "collapsed": true
   },
   "outputs": [],
   "source": [
    "mnist = pd.read_csv('digit_recognizer_dataset.csv')\n",
    "target = mnist.label\n",
    "data = mnist.drop(['label'], axis=1)"
   ]
  },
  {
   "cell_type": "markdown",
   "metadata": {},
   "source": [
    "### Step 2: Define Problem\n",
    "\n",
    "##### What is your task? What are your goals? What do you want to achieve?"
   ]
  },
  {
   "cell_type": "markdown",
   "metadata": {},
   "source": [
    "We are trying to evaluate a bunch of different classification algorithms on hand written digit recognition.\n",
    "The goal is to choose the best model for predicting the hand written digits and try to improve the accuracy of the recognition."
   ]
  },
  {
   "cell_type": "markdown",
   "metadata": {},
   "source": [
    "### Step 3: Exploratory Analysis\n",
    "\n",
    "##### Understand your data: Take a “peek” of your data, answer basic questions about the dataset. Summarise your data. Explore descriptive statistics and visualisations."
   ]
  },
  {
   "cell_type": "code",
   "execution_count": 5,
   "metadata": {},
   "outputs": [
    {
     "name": "stdout",
     "output_type": "stream",
     "text": [
      "   pixel0  pixel1  pixel2  pixel3  pixel4  pixel5  pixel6  pixel7  pixel8  \\\n",
      "0       0       0       0       0       0       0       0       0       0   \n",
      "1       0       0       0       0       0       0       0       0       0   \n",
      "2       0       0       0       0       0       0       0       0       0   \n",
      "3       0       0       0       0       0       0       0       0       0   \n",
      "4       0       0       0       0       0       0       0       0       0   \n",
      "5       0       0       0       0       0       0       0       0       0   \n",
      "6       0       0       0       0       0       0       0       0       0   \n",
      "7       0       0       0       0       0       0       0       0       0   \n",
      "8       0       0       0       0       0       0       0       0       0   \n",
      "9       0       0       0       0       0       0       0       0       0   \n",
      "\n",
      "   pixel9    ...     pixel774  pixel775  pixel776  pixel777  pixel778  \\\n",
      "0       0    ...            0         0         0         0         0   \n",
      "1       0    ...            0         0         0         0         0   \n",
      "2       0    ...            0         0         0         0         0   \n",
      "3       0    ...            0         0         0         0         0   \n",
      "4       0    ...            0         0         0         0         0   \n",
      "5       0    ...            0         0         0         0         0   \n",
      "6       0    ...            0         0         0         0         0   \n",
      "7       0    ...            0         0         0         0         0   \n",
      "8       0    ...            0         0         0         0         0   \n",
      "9       0    ...            0         0         0         0         0   \n",
      "\n",
      "   pixel779  pixel780  pixel781  pixel782  pixel783  \n",
      "0         0         0         0         0         0  \n",
      "1         0         0         0         0         0  \n",
      "2         0         0         0         0         0  \n",
      "3         0         0         0         0         0  \n",
      "4         0         0         0         0         0  \n",
      "5         0         0         0         0         0  \n",
      "6         0         0         0         0         0  \n",
      "7         0         0         0         0         0  \n",
      "8         0         0         0         0         0  \n",
      "9         0         0         0         0         0  \n",
      "\n",
      "[10 rows x 784 columns]\n",
      "0    1\n",
      "1    0\n",
      "2    1\n",
      "3    4\n",
      "4    0\n",
      "5    0\n",
      "6    7\n",
      "7    3\n",
      "8    5\n",
      "9    3\n",
      "Name: label, dtype: int64\n"
     ]
    }
   ],
   "source": [
    "print data.head(10)\n",
    "print target.head(10)"
   ]
  },
  {
   "cell_type": "code",
   "execution_count": 6,
   "metadata": {},
   "outputs": [
    {
     "name": "stdout",
     "output_type": "stream",
     "text": [
      "(42000, 784)\n",
      "(42000,)\n"
     ]
    }
   ],
   "source": [
    "print data.shape\n",
    "print target.shape"
   ]
  },
  {
   "cell_type": "code",
   "execution_count": 7,
   "metadata": {},
   "outputs": [
    {
     "data": {
      "text/plain": [
       "label       False\n",
       "pixel0      False\n",
       "pixel1      False\n",
       "pixel2      False\n",
       "pixel3      False\n",
       "pixel4      False\n",
       "pixel5      False\n",
       "pixel6      False\n",
       "pixel7      False\n",
       "pixel8      False\n",
       "pixel9      False\n",
       "pixel10     False\n",
       "pixel11     False\n",
       "pixel12     False\n",
       "pixel13     False\n",
       "pixel14     False\n",
       "pixel15     False\n",
       "pixel16     False\n",
       "pixel17     False\n",
       "pixel18     False\n",
       "pixel19     False\n",
       "pixel20     False\n",
       "pixel21     False\n",
       "pixel22     False\n",
       "pixel23     False\n",
       "pixel24     False\n",
       "pixel25     False\n",
       "pixel26     False\n",
       "pixel27     False\n",
       "pixel28     False\n",
       "            ...  \n",
       "pixel754    False\n",
       "pixel755    False\n",
       "pixel756    False\n",
       "pixel757    False\n",
       "pixel758    False\n",
       "pixel759    False\n",
       "pixel760    False\n",
       "pixel761    False\n",
       "pixel762    False\n",
       "pixel763    False\n",
       "pixel764    False\n",
       "pixel765    False\n",
       "pixel766    False\n",
       "pixel767    False\n",
       "pixel768    False\n",
       "pixel769    False\n",
       "pixel770    False\n",
       "pixel771    False\n",
       "pixel772    False\n",
       "pixel773    False\n",
       "pixel774    False\n",
       "pixel775    False\n",
       "pixel776    False\n",
       "pixel777    False\n",
       "pixel778    False\n",
       "pixel779    False\n",
       "pixel780    False\n",
       "pixel781    False\n",
       "pixel782    False\n",
       "pixel783    False\n",
       "Length: 785, dtype: bool"
      ]
     },
     "execution_count": 7,
     "metadata": {},
     "output_type": "execute_result"
    }
   ],
   "source": [
    "pd.isnull(mnist).any()"
   ]
  },
  {
   "cell_type": "code",
   "execution_count": 8,
   "metadata": {},
   "outputs": [
    {
     "name": "stdout",
     "output_type": "stream",
     "text": [
      "        pixel0   pixel1   pixel2   pixel3   pixel4   pixel5   pixel6   pixel7  \\\n",
      "count  42000.0  42000.0  42000.0  42000.0  42000.0  42000.0  42000.0  42000.0   \n",
      "mean       0.0      0.0      0.0      0.0      0.0      0.0      0.0      0.0   \n",
      "std        0.0      0.0      0.0      0.0      0.0      0.0      0.0      0.0   \n",
      "min        0.0      0.0      0.0      0.0      0.0      0.0      0.0      0.0   \n",
      "25%        0.0      0.0      0.0      0.0      0.0      0.0      0.0      0.0   \n",
      "50%        0.0      0.0      0.0      0.0      0.0      0.0      0.0      0.0   \n",
      "75%        0.0      0.0      0.0      0.0      0.0      0.0      0.0      0.0   \n",
      "max        0.0      0.0      0.0      0.0      0.0      0.0      0.0      0.0   \n",
      "\n",
      "        pixel8   pixel9    ...         pixel774      pixel775      pixel776  \\\n",
      "count  42000.0  42000.0    ...     42000.000000  42000.000000  42000.000000   \n",
      "mean       0.0      0.0    ...         0.219286      0.117095      0.059024   \n",
      "std        0.0      0.0    ...         6.312890      4.633819      3.274488   \n",
      "min        0.0      0.0    ...         0.000000      0.000000      0.000000   \n",
      "25%        0.0      0.0    ...         0.000000      0.000000      0.000000   \n",
      "50%        0.0      0.0    ...         0.000000      0.000000      0.000000   \n",
      "75%        0.0      0.0    ...         0.000000      0.000000      0.000000   \n",
      "max        0.0      0.0    ...       254.000000    254.000000    253.000000   \n",
      "\n",
      "          pixel777      pixel778      pixel779  pixel780  pixel781  pixel782  \\\n",
      "count  42000.00000  42000.000000  42000.000000   42000.0   42000.0   42000.0   \n",
      "mean       0.02019      0.017238      0.002857       0.0       0.0       0.0   \n",
      "std        1.75987      1.894498      0.414264       0.0       0.0       0.0   \n",
      "min        0.00000      0.000000      0.000000       0.0       0.0       0.0   \n",
      "25%        0.00000      0.000000      0.000000       0.0       0.0       0.0   \n",
      "50%        0.00000      0.000000      0.000000       0.0       0.0       0.0   \n",
      "75%        0.00000      0.000000      0.000000       0.0       0.0       0.0   \n",
      "max      253.00000    254.000000     62.000000       0.0       0.0       0.0   \n",
      "\n",
      "       pixel783  \n",
      "count   42000.0  \n",
      "mean        0.0  \n",
      "std         0.0  \n",
      "min         0.0  \n",
      "25%         0.0  \n",
      "50%         0.0  \n",
      "75%         0.0  \n",
      "max         0.0  \n",
      "\n",
      "[8 rows x 784 columns]\n"
     ]
    }
   ],
   "source": [
    "data.describe()"
   ]
  },
  {
   "cell_type": "code",
   "execution_count": 13,
   "metadata": {},
   "outputs": [
    {
     "data": {
      "text/plain": [
       "label\n",
       "0    4132\n",
       "1    4684\n",
       "2    4177\n",
       "3    4351\n",
       "4    4072\n",
       "5    3795\n",
       "6    4137\n",
       "7    4401\n",
       "8    4063\n",
       "9    4188\n",
       "dtype: int64"
      ]
     },
     "execution_count": 13,
     "metadata": {},
     "output_type": "execute_result"
    }
   ],
   "source": [
    "mnist.groupby('label').size()"
   ]
  },
  {
   "cell_type": "markdown",
   "metadata": {},
   "source": [
    "### Step 4: Prepare Data\n",
    "\n",
    "##### Data Cleaning/Data Wrangling/Collect more data (if necessary)."
   ]
  },
  {
   "cell_type": "code",
   "execution_count": 17,
   "metadata": {},
   "outputs": [
    {
     "data": {
      "text/plain": [
       "array([  0.00000000e+00,   0.00000000e+00,   0.00000000e+00,\n",
       "         0.00000000e+00,   0.00000000e+00,   0.00000000e+00,\n",
       "         0.00000000e+00,   0.00000000e+00,   0.00000000e+00,\n",
       "         0.00000000e+00,   0.00000000e+00,   0.00000000e+00,\n",
       "        -5.25695663e-03,  -6.85749399e-03,  -4.87955846e-03,\n",
       "        -4.87955846e-03,   0.00000000e+00,   0.00000000e+00,\n",
       "         0.00000000e+00,   0.00000000e+00,   0.00000000e+00,\n",
       "         0.00000000e+00,   0.00000000e+00,   0.00000000e+00,\n",
       "         0.00000000e+00,   0.00000000e+00,   0.00000000e+00,\n",
       "         0.00000000e+00,   0.00000000e+00,   0.00000000e+00,\n",
       "         0.00000000e+00,   0.00000000e+00,  -4.87955846e-03,\n",
       "        -5.59459946e-03,  -9.29615683e-03,  -1.17896976e-02,\n",
       "        -1.61397448e-02,  -2.03688475e-02,  -2.60785075e-02,\n",
       "        -2.99119891e-02,  -3.16459385e-02,  -3.23331345e-02,\n",
       "        -3.25905358e-02,  -2.96669935e-02,  -2.96319963e-02,\n",
       "        -2.77933638e-02,  -2.34898481e-02,  -1.75477552e-02,\n",
       "        -1.51109978e-02,  -1.00759690e-02,  -8.09386243e-03,\n",
       "        -5.23176596e-03,   0.00000000e+00,   0.00000000e+00,\n",
       "         0.00000000e+00,   0.00000000e+00,   0.00000000e+00,\n",
       "         0.00000000e+00,  -4.87955846e-03,  -4.87955846e-03,\n",
       "        -7.82440408e-03,  -1.12990192e-02,  -1.95020779e-02,\n",
       "        -2.76163178e-02,  -3.87084817e-02,  -5.30855454e-02,\n",
       "        -6.70712444e-02,  -8.45122260e-02,  -1.01425394e-01,\n",
       "        -1.18189229e-01,  -1.32376262e-01,  -1.40030516e-01,\n",
       "        -1.38082368e-01,  -1.29802031e-01,  -1.17155368e-01,\n",
       "        -9.99602501e-02,  -7.76692507e-02,  -5.61634721e-02,\n",
       "        -3.87567261e-02,  -2.37045123e-02,  -1.38066188e-02,\n",
       "        -8.17130342e-03,   0.00000000e+00,   0.00000000e+00,\n",
       "         0.00000000e+00,   0.00000000e+00,  -5.25442669e-03,\n",
       "        -7.82941260e-03,  -1.39004755e-02,  -2.46786074e-02,\n",
       "        -3.53874790e-02,  -5.52289729e-02,  -8.08096132e-02,\n",
       "        -1.08625944e-01,  -1.38573446e-01,  -1.70241569e-01,\n",
       "        -1.99103999e-01,  -2.26118721e-01,  -2.48559185e-01,\n",
       "        -2.60820850e-01,  -2.59902491e-01,  -2.43042189e-01,\n",
       "        -2.16547224e-01,  -1.83307903e-01,  -1.45709585e-01,\n",
       "        -1.07024981e-01,  -7.67696244e-02,  -4.70369000e-02,\n",
       "        -3.02407835e-02,  -1.59876270e-02,  -4.87955846e-03,\n",
       "         0.00000000e+00,   0.00000000e+00,  -4.87955846e-03,\n",
       "        -7.84861021e-03,  -1.41935887e-02,  -2.55768129e-02,\n",
       "        -4.88452885e-02,  -7.77191916e-02,  -1.16238990e-01,\n",
       "        -1.62318957e-01,  -2.13874089e-01,   5.30851893e-03,\n",
       "         4.63629625e-02,   1.07194733e+00,   8.44657753e-01,\n",
       "         1.18338168e+00,   2.06963842e-01,   1.10291921e-01,\n",
       "        -4.62975354e-01,  -4.14519992e-01,  -3.51020015e-01,\n",
       "        -2.80428081e-01,  -2.13843419e-01,  -1.56371803e-01,\n",
       "        -1.06093918e-01,  -6.93402851e-02,  -3.74076340e-02,\n",
       "        -1.50233564e-02,   0.00000000e+00,   0.00000000e+00,\n",
       "         0.00000000e+00,  -1.11269381e-02,  -2.05205082e-02,\n",
       "        -5.19875668e-02,  -9.01381223e-02,  -1.38339615e-01,\n",
       "        -1.95397551e-01,  -5.17933750e-02,   7.43581685e-01,\n",
       "         2.16451132e+00,   1.73593148e+00,   1.37822564e+00,\n",
       "         1.11346574e+00,   9.55763049e-01,   6.40729594e-01,\n",
       "         8.69895498e-01,   3.18589166e-01,  -4.11869948e-01,\n",
       "        -5.47254506e-01,  -4.41137794e-01,  -3.42655279e-01,\n",
       "        -2.56399357e-01,  -1.85874439e-01,  -1.28428542e-01,\n",
       "        -7.10066001e-02,  -2.97464519e-02,  -4.87955846e-03,\n",
       "         0.00000000e+00,  -4.87955846e-03,  -1.40905470e-02,\n",
       "        -3.58146878e-02,  -7.96373589e-02,  -1.32128254e-01,\n",
       "        -1.97185624e-01,  -2.64274049e-02,   1.76996886e+00,\n",
       "         1.99606607e+00,   1.55297630e+00,   1.22666860e+00,\n",
       "         9.63109381e-01,   7.51974600e-01,   6.16666872e-01,\n",
       "         5.61016781e-01,   5.95799981e-01,   7.04136179e-01,\n",
       "         7.28978785e-01,  -3.12856137e-01,  -4.46596457e-01,\n",
       "        -4.45981440e-01,  -3.33712591e-01,  -2.43069329e-01,\n",
       "        -1.69323141e-01,  -1.00589060e-01,  -4.61591465e-02,\n",
       "        -1.36884085e-02,   0.00000000e+00,  -1.43801386e-02,\n",
       "        -2.66343431e-02,  -6.05528148e-02,  -1.14747876e-01,\n",
       "        -1.78025589e-01,  -2.55601356e-01,   5.36033058e-01,\n",
       "         2.04261528e+00,   1.54095490e+00,   1.19377862e+00,\n",
       "         9.26913222e-01,   7.26442648e-01,   5.71369015e-01,\n",
       "         4.80153513e-01,   4.51152609e-01,   4.82043312e-01,\n",
       "         5.62325433e-01,   7.11417653e-01,   9.46196676e-01,\n",
       "         1.28017400e-01,  -5.25706856e-01,  -3.90590080e-01,\n",
       "        -2.80051547e-01,  -1.91958396e-01,  -1.15707772e-01,\n",
       "        -5.50841696e-02,  -1.34009330e-02,  -4.87955846e-03,\n",
       "        -1.96958423e-02,  -4.54097922e-02,  -8.64014845e-02,\n",
       "        -1.43075708e-01,  -2.12115312e-01,   5.42100142e-01,\n",
       "         1.63250758e+00,   1.68856198e+00,   1.25601571e+00,\n",
       "         9.42281790e-01,   7.41533535e-01,   6.25559153e-01,\n",
       "        -3.76615974e-01,  -5.46599495e-01,   1.85722910e-01,\n",
       "         5.37483531e-01,   5.69128098e-01,   6.54767636e-01,\n",
       "         8.52816782e-01,   1.09091452e+00,   1.71249378e-01,\n",
       "        -4.14914231e-01,  -2.89432824e-01,  -1.90575873e-01,\n",
       "        -1.17227693e-01,  -5.46344879e-02,  -1.14186507e-02,\n",
       "        -7.67617206e-03,  -2.31027341e-02,  -5.49737226e-02,\n",
       "        -9.49573789e-02,  -1.51834617e-01,  -2.24130487e-01,\n",
       "         1.88282893e+00,   2.08535483e+00,   1.49146869e+00,\n",
       "         1.09027594e+00,   4.74692730e-01,  -5.89179653e-03,\n",
       "        -8.88172437e-03,  -6.33167543e-01,  -8.76527663e-01,\n",
       "        -8.07807525e-01,  -7.39475730e-01,   3.04752575e-01,\n",
       "         6.87586240e-01,   8.60333062e-01,   1.17687123e+00,\n",
       "         9.21844570e-01,  -4.12902506e-01,  -2.81221827e-01,\n",
       "        -1.75573258e-01,  -1.02276868e-01,  -4.64433559e-02,\n",
       "        -1.41096916e-02,  -8.30844286e-03,  -2.28146725e-02,\n",
       "        -5.38292270e-02,  -9.28127835e-02,  -1.47187001e-01,\n",
       "        -2.06138482e-01,   1.87458396e+00,   2.00640433e+00,\n",
       "         1.40241816e+00,  -1.54687121e-01,  -4.53998048e-01,\n",
       "        -9.24698471e-01,  -8.55573653e-01,  -7.74429104e-01,\n",
       "        -7.38686939e-01,  -7.66830410e-01,  -8.50243183e-01,\n",
       "        -1.05066515e-01,   7.25033210e-01,   9.18265499e-01,\n",
       "         1.26628904e+00,   1.39033847e+00,   4.86057924e-01,\n",
       "        -2.67388468e-01,  -1.57870813e-01,  -7.99141729e-02,\n",
       "        -3.60802738e-02,  -1.42664565e-02,  -7.86313574e-03,\n",
       "        -1.98170481e-02,  -4.81833030e-02,  -8.16938535e-02,\n",
       "        -1.34541860e-01,   6.58686383e-01,   2.90185552e+00,\n",
       "         1.94945191e+00,   1.33505958e+00,  -6.07449551e-01,\n",
       "        -8.94679876e-01,  -8.61434060e-01,  -7.72305603e-01,\n",
       "        -7.14600515e-01,  -7.08153395e-01,  -7.71306983e-01,\n",
       "        -8.84519940e-01,  -9.65018754e-01,  -3.87622190e-01,\n",
       "         9.94633998e-01,   1.40077671e+00,   1.97091426e+00,\n",
       "         1.51175268e+00,  -2.56542805e-01,  -1.49258320e-01,\n",
       "        -6.15130768e-02,  -2.90869735e-02,  -1.08940209e-02,\n",
       "        -4.87955846e-03,  -1.39236550e-02,  -3.75679433e-02,\n",
       "        -6.74527056e-02,  -1.23620426e-01,   1.29125439e+00,\n",
       "         2.80985024e+00,   1.83661104e+00,   1.15438835e+00,\n",
       "        -6.58985835e-01,  -8.84207993e-01,  -8.32778937e-01,\n",
       "        -7.57994645e-01,  -7.58018815e-01,  -7.85455037e-01,\n",
       "        -8.86013125e-01,  -1.01900175e+00,  -1.04850075e+00,\n",
       "        -7.90842604e-01,   9.65603412e-01,   1.54750925e+00,\n",
       "         2.13726150e+00,   1.59057665e+00,  -2.55825641e-01,\n",
       "        -1.54675358e-01,  -5.36666168e-02,  -2.14414973e-02,\n",
       "        -1.14446047e-02,  -4.87955846e-03,  -9.62595281e-03,\n",
       "        -2.66049886e-02,  -5.69879316e-02,  -1.21028782e-01,\n",
       "         9.29044495e-01,   2.63533335e+00,   1.73017463e+00,\n",
       "         6.98657410e-01,  -7.81207541e-01,  -8.69554092e-01,\n",
       "        -8.29346692e-01,  -8.07983153e-01,  -8.76835010e-01,\n",
       "        -9.32950550e-01,  -1.07902087e+00,  -1.17284471e+00,\n",
       "        -1.11888084e+00,  -9.71207251e-01,   4.67168166e-01,\n",
       "         1.62122933e+00,   2.16576943e+00,   2.47670615e+00,\n",
       "        -6.80688698e-02,  -1.65842772e-01,  -6.01707337e-02,\n",
       "        -2.10967944e-02,  -7.32009320e-03,   0.00000000e+00,\n",
       "        -5.61416692e-03,  -1.73539501e-02,  -4.94246701e-02,\n",
       "         3.65947418e-01,   3.72837648e+00,   2.48018441e+00,\n",
       "         1.66555679e+00,   1.19595421e+00,  -6.11012742e-01,\n",
       "        -8.51118537e-01,  -8.43748738e-01,  -8.94026812e-01,\n",
       "        -1.00791752e+00,  -1.08389015e+00,  -1.24241874e+00,\n",
       "        -1.23428553e+00,  -1.12576939e+00,  -9.59036764e-01,\n",
       "        -1.99065740e-01,   1.58740826e+00,   2.08685262e+00,\n",
       "         2.73016740e+00,  -5.81024652e-03,  -1.74273372e-01,\n",
       "        -6.97208823e-02,  -2.52435129e-02,  -7.12920081e-03,\n",
       "         0.00000000e+00,   0.00000000e+00,  -1.63996709e-02,\n",
       "        -5.18258845e-02,   4.56653894e-01,   3.80237938e+00,\n",
       "         2.38308723e+00,   1.66492412e+00,   1.24030607e+00,\n",
       "        -5.75611067e-01,  -8.25253252e-01,  -8.53758674e-01,\n",
       "        -9.45875589e-01,  -1.05856083e+00,  -1.14204839e+00,\n",
       "        -1.24226330e+00,  -1.16528937e+00,  -1.06402494e+00,\n",
       "        -9.20194874e-01,  -3.92295854e-01,   1.52450839e+00,\n",
       "         1.99306293e+00,   2.64381816e+00,  -1.09828692e-02,\n",
       "        -1.74672596e-01,  -7.53091129e-02,  -2.85824702e-02,\n",
       "        -9.95989938e-03,   0.00000000e+00,  -6.89964710e-03,\n",
       "        -2.07446657e-02,  -6.05683694e-02,  -9.58529739e-02,\n",
       "         2.17642939e+00,   2.32180519e+00,   1.72154458e+00,\n",
       "         1.34530227e+00,  -5.19728151e-01,  -7.77450347e-01,\n",
       "        -8.20977469e-01,  -9.03788052e-01,  -9.87589336e-01,\n",
       "        -1.07141725e+00,  -1.12242594e+00,  -1.06341269e+00,\n",
       "        -9.87482236e-01,  -8.78280905e-01,  -3.85339770e-01,\n",
       "         1.49003307e+00,   1.96629436e+00,   2.63866525e+00,\n",
       "         1.19161095e-03,  -1.71122792e-01,  -8.15464827e-02,\n",
       "        -3.34695043e-02,  -1.19938969e-02,   0.00000000e+00,\n",
       "        -7.96139135e-03,  -2.48129654e-02,  -7.38345638e-02,\n",
       "        -1.75784711e-01,   1.04298641e+00,   2.29140917e+00,\n",
       "         1.79551456e+00,   1.48085119e+00,   8.62449049e-01,\n",
       "        -6.28361388e-01,  -7.54584167e-01,  -8.04434750e-01,\n",
       "        -8.82168694e-01,  -9.66338491e-01,  -1.01204994e+00,\n",
       "        -9.98965662e-01,  -9.44599256e-01,  -7.43442013e-01,\n",
       "         8.24132800e-01,   1.50198997e+00,   2.00410345e+00,\n",
       "         1.48260698e+00,  -2.41524765e-01,  -1.65121626e-01,\n",
       "        -8.60346117e-02,  -3.55702026e-02,  -1.39272690e-02,\n",
       "        -6.71630780e-03,  -7.63861634e-03,  -3.27668607e-02,\n",
       "        -9.10653529e-02,  -1.96191367e-01,  -1.20335756e-01,\n",
       "         1.72262085e+00,   1.78606634e+00,   1.53147940e+00,\n",
       "         1.35258046e+00,   8.10992611e-01,  -2.55121687e-01,\n",
       "        -7.57628861e-01,  -8.35742216e-01,  -9.22207994e-01,\n",
       "        -9.90794406e-01,  -1.00205527e+00,  -8.07782169e-01,\n",
       "         2.83056584e-01,   1.18014220e+00,   1.56391565e+00,\n",
       "         2.01905140e+00,   5.25866670e-02,  -2.42961226e-01,\n",
       "        -1.54239056e-01,  -8.30583552e-02,  -3.20030214e-02,\n",
       "        -9.33312584e-03,   0.00000000e+00,  -6.90240479e-03,\n",
       "        -3.86777297e-02,  -1.03847370e-01,  -2.09180762e-01,\n",
       "        -3.35568120e-01,   1.59077279e-01,   1.32888128e+00,\n",
       "         1.44726272e+00,   1.25969670e+00,   1.10508031e+00,\n",
       "         5.70806516e-01,  -4.88641075e-01,  -5.82349376e-01,\n",
       "        -7.63821690e-01,  -7.77605735e-01,  -7.22158132e-01,\n",
       "         4.65593970e-01,   9.66820152e-01,   1.26629226e+00,\n",
       "         1.69693019e+00,   1.40943232e+00,  -3.17055106e-01,\n",
       "        -2.19819649e-01,  -1.38285283e-01,  -7.61360676e-02,\n",
       "        -2.97968091e-02,  -6.88565669e-03,   0.00000000e+00,\n",
       "        -8.34207248e-03,  -4.30459942e-02,  -1.08945067e-01,\n",
       "        -2.07949359e-01,  -3.28563993e-01,  -4.52089642e-01,\n",
       "         1.75891261e-01,   1.23267179e+00,   1.10342072e+00,\n",
       "         9.49663999e-01,   8.23914100e-01,   7.02540235e-01,\n",
       "         5.86018994e-01,   3.84533398e-01,   4.69030425e-01,\n",
       "         6.45304904e-01,   8.14767389e-01,   1.07272706e+00,\n",
       "         1.44874356e+00,   1.97339514e+00,   6.79205733e-01,\n",
       "        -2.69442138e-01,  -1.84642242e-01,  -1.18967808e-01,\n",
       "        -6.56732163e-02,  -2.66669360e-02,  -4.87955846e-03,\n",
       "        -4.87955846e-03,  -9.61934742e-03,  -4.04243696e-02,\n",
       "        -1.01702462e-01,  -1.88417719e-01,  -2.98726365e-01,\n",
       "        -4.24183869e-01,  -5.53002294e-01,   1.99512258e-01,\n",
       "         1.01479992e+00,   8.36415444e-01,   6.98110129e-01,\n",
       "         5.82089214e-01,   4.95146140e-01,   4.75450205e-01,\n",
       "         5.53352680e-01,   7.18257252e-01,   9.65582051e-01,\n",
       "         1.31131061e+00,   1.65357424e+00,   5.74619321e-01,\n",
       "        -1.29467705e-01,  -2.10080163e-01,  -1.47954556e-01,\n",
       "        -9.54625021e-02,  -4.96330261e-02,  -2.10905685e-02,\n",
       "        -4.87955846e-03,  -4.87955846e-03,  -6.17966236e-03,\n",
       "        -3.22495932e-02,  -8.09181316e-02,  -1.48435138e-01,\n",
       "        -2.42541924e-01,  -3.56456408e-01,  -4.80629308e-01,\n",
       "        -5.10590000e-01,   5.59555750e-01,   8.38343954e-01,\n",
       "         6.77689226e-01,   5.74645306e-01,   5.34133435e-01,\n",
       "         5.63865895e-01,   7.00150658e-01,   9.31789970e-01,\n",
       "         1.26704693e+00,   1.64719216e+00,   3.74577523e-01,\n",
       "        -2.99638472e-01,  -2.17738649e-01,  -1.56277257e-01,\n",
       "        -1.07016520e-01,  -6.81478245e-02,  -3.86245993e-02,\n",
       "        -1.31245635e-02,  -4.87955846e-03,   0.00000000e+00,\n",
       "         0.00000000e+00,  -2.26156023e-02,  -5.36042837e-02,\n",
       "        -1.00024978e-01,  -1.66315199e-01,  -2.56803488e-01,\n",
       "        -3.63267964e-01,  -4.81778280e-01,  -5.40090262e-01,\n",
       "        -1.81697081e-01,   1.54979820e-01,   7.76325413e-01,\n",
       "         7.72034912e-01,   8.47234625e-01,   1.04700263e+00,\n",
       "         5.22843928e-01,  -3.16615765e-01,  -2.08961068e-01,\n",
       "        -2.84984841e-01,  -2.09898814e-01,  -1.50149363e-01,\n",
       "        -1.05757463e-01,  -7.12577466e-02,  -4.26437505e-02,\n",
       "        -2.15047611e-02,  -1.17839090e-02,   0.00000000e+00,\n",
       "         0.00000000e+00,   0.00000000e+00,  -1.01391068e-02,\n",
       "        -3.00889404e-02,  -5.80450096e-02,  -9.44477096e-02,\n",
       "        -1.50861443e-01,  -2.17909483e-01,  -2.96082234e-01,\n",
       "        -3.78181486e-01,  -4.57603998e-01,  -5.20471525e-01,\n",
       "        -5.56799707e-01,  -5.54792155e-01,  -5.23007556e-01,\n",
       "        -4.64702755e-01,  -3.95405817e-01,  -3.23605812e-01,\n",
       "        -2.53569228e-01,  -1.93802491e-01,  -1.45071757e-01,\n",
       "        -1.00623258e-01,  -7.11991964e-02,  -4.72931107e-02,\n",
       "        -2.48720809e-02,  -1.19608240e-02,  -5.80531118e-03,\n",
       "         0.00000000e+00,   0.00000000e+00,   0.00000000e+00,\n",
       "        -7.82448691e-03,  -1.18824079e-02,  -2.76044603e-02,\n",
       "        -5.04718183e-02,  -8.32419391e-02,  -1.23694585e-01,\n",
       "        -1.70445220e-01,  -2.17343094e-01,  -2.60712899e-01,\n",
       "        -2.91268086e-01,  -3.05016280e-01,  -3.03071463e-01,\n",
       "        -2.89139796e-01,  -2.65271352e-01,  -2.36681910e-01,\n",
       "        -2.02926950e-01,  -1.64213849e-01,  -1.27450785e-01,\n",
       "        -9.39371513e-02,  -6.50208449e-02,  -4.64469957e-02,\n",
       "        -2.92986266e-02,  -1.44495438e-02,  -6.86213876e-03,\n",
       "        -4.87955846e-03,   0.00000000e+00,   0.00000000e+00,\n",
       "         0.00000000e+00,   0.00000000e+00,   0.00000000e+00,\n",
       "        -1.46635937e-02,  -2.86606586e-02,  -5.19157128e-02,\n",
       "        -7.70872356e-02,  -1.03707295e-01,  -1.28472680e-01,\n",
       "        -1.53192950e-01,  -1.74292266e-01,  -1.83262956e-01,\n",
       "        -1.82476178e-01,  -1.70828118e-01,  -1.55416491e-01,\n",
       "        -1.39169403e-01,  -1.19392939e-01,  -9.64380666e-02,\n",
       "        -7.54372858e-02,  -5.33319821e-02,  -3.67658395e-02,\n",
       "        -2.35221929e-02,  -1.38761080e-02,  -6.34813725e-03,\n",
       "        -4.87955846e-03,   0.00000000e+00,   0.00000000e+00,\n",
       "         0.00000000e+00,   0.00000000e+00,   0.00000000e+00,\n",
       "         0.00000000e+00,   0.00000000e+00,  -6.54246755e-03,\n",
       "        -1.49287704e-02,  -2.03395590e-02,  -2.50032893e-02,\n",
       "        -3.04928383e-02,  -4.14096776e-02,  -4.65006944e-02,\n",
       "        -5.09250277e-02,  -5.52947245e-02,  -5.99685197e-02,\n",
       "        -5.60307614e-02,  -5.18011877e-02,  -4.26287685e-02,\n",
       "        -3.47533381e-02,  -2.52095491e-02,  -1.77998317e-02,\n",
       "        -1.19192952e-02,  -8.93757497e-03,  -6.90080996e-03,\n",
       "         0.00000000e+00,   0.00000000e+00,   0.00000000e+00,\n",
       "         0.00000000e+00])"
      ]
     },
     "execution_count": 17,
     "metadata": {},
     "output_type": "execute_result"
    }
   ],
   "source": [
    "normalizer = Normalizer()\n",
    "normalized_data = normalizer.fit_transform(data)\n",
    "scaler = StandardScaler()\n",
    "scaled_data = scaler.fit_transform(normalized_data)\n",
    "scaled_data[1]"
   ]
  },
  {
   "cell_type": "markdown",
   "metadata": {},
   "source": [
    "### Step 5: Feature Engineering\n",
    "\n",
    "##### Feature selection/feture engineering (as in new features)/data transformations."
   ]
  },
  {
   "cell_type": "code",
   "execution_count": 19,
   "metadata": {},
   "outputs": [
    {
     "name": "stdout",
     "output_type": "stream",
     "text": [
      "[[ -661.5957796   -699.31132836   183.28203935 ...,   -34.62238991\n",
      "    -48.55246591    14.84437281]\n",
      " [ 1701.45168525  -360.55155498  -501.80559307 ...,    10.19707807\n",
      "     38.02567162  -122.93827258]\n",
      " [ -886.89443397  -293.76578243    67.15530855 ...,    63.28549983\n",
      "    -71.83626531   -88.94508098]\n",
      " ..., \n",
      " [  336.26998179   950.01528008  -168.60541588 ...,   -40.26384167\n",
      "    -61.38786345   -14.72619862]\n",
      " [  327.39939165    62.01608939   697.53640036 ...,   -27.71568231\n",
      "     24.63794174   121.52892383]\n",
      " [ -364.24919995   418.89302673    62.89982267 ...,    44.81797071\n",
      "    -45.5302838     58.49988236]]\n"
     ]
    }
   ],
   "source": [
    "pca = PCA(n_components=100)\n",
    "pca_data = pca.fit_transform(data)\n",
    "print pca_data"
   ]
  },
  {
   "cell_type": "markdown",
   "metadata": {},
   "source": [
    "### Step 6: Algorithm Selection\n",
    "\n",
    "##### Select a set of algorithms to apply, select evaluation metrics, and evaluate/compare algorithms."
   ]
  },
  {
   "cell_type": "markdown",
   "metadata": {},
   "source": [
    "- We are going to compare a set of algorithms, regarding their accuracy:\n",
    "1. Random Forest\n",
    "2. Linear Discriminant Analysis\n",
    "3. K-Nearest Neighbors\n",
    "4. Support Vector Machines\n",
    "5. Naive Bayes\n",
    "6. Logistic Regression"
   ]
  },
  {
   "cell_type": "code",
   "execution_count": 30,
   "metadata": {},
   "outputs": [
    {
     "data": {
      "text/plain": [
       "(5000, 784)"
      ]
     },
     "execution_count": 30,
     "metadata": {},
     "output_type": "execute_result"
    }
   ],
   "source": [
    "# Because it takes forever to run it with 42.000 samples, we choose a subset of 5.000 samples\n",
    "sample5000 = mnist.sample(n=5000)\n",
    "target5000 = sample5000.label\n",
    "data5000 = sample5000.drop(['label'], axis=1)\n",
    "data5000.shape"
   ]
  },
  {
   "cell_type": "code",
   "execution_count": 31,
   "metadata": {},
   "outputs": [],
   "source": [
    "# Evaluation metric:accuracy\n",
    "scoring = 'accuracy'\n",
    "kfold = KFold(n_splits=10, random_state=7)"
   ]
  },
  {
   "cell_type": "code",
   "execution_count": 33,
   "metadata": {},
   "outputs": [
    {
     "name": "stdout",
     "output_type": "stream",
     "text": [
      " RF: 0.888400 (+/- 0.012831)\n",
      "LDA: 0.836400 (+/- 0.010613)\n",
      "KNN: 0.933200 (+/- 0.008060)\n",
      "SVM: 0.109400 (+/- 0.012200)\n",
      " NB: 0.552000 (+/- 0.030146)\n",
      " LR: 0.814400 (+/- 0.012484)\n"
     ]
    }
   ],
   "source": [
    "models = []\n",
    "models.append(('RF',  RandomForestClassifier()))\n",
    "models.append(('LDA', LinearDiscriminantAnalysis()))\n",
    "models.append(('KNN', KNeighborsClassifier()))\n",
    "models.append(('SVM', SVC()))\n",
    "models.append(('NB',  GaussianNB()))\n",
    "models.append(('LR',  LogisticRegression()))\n",
    "\n",
    "\n",
    "results = []\n",
    "names   = []\n",
    "\n",
    "for name, model in models:\n",
    "    cv_results = cross_val_score(model, data5000, target5000, cv=kfold, scoring=scoring)\n",
    "    results.append(cv_results)\n",
    "    names.append(name)\n",
    "    print(\"%03s: %f (+/- %f)\" % (name, cv_results.mean(), cv_results.std()))"
   ]
  },
  {
   "cell_type": "markdown",
   "metadata": {},
   "source": [
    "### Step 7: Model Training\n",
    "\n",
    "##### Apply ensembles and improve performance by hyperparameter optimisation."
   ]
  },
  {
   "cell_type": "code",
   "execution_count": 35,
   "metadata": {
    "collapsed": true
   },
   "outputs": [],
   "source": [
    "X_train, X_test, Y_train, Y_test = train_test_split(data5000, target5000, test_size=0.33, random_state=7)"
   ]
  },
  {
   "cell_type": "code",
   "execution_count": 36,
   "metadata": {},
   "outputs": [
    {
     "name": "stdout",
     "output_type": "stream",
     "text": [
      "Accuracy for test data is 0.927878787879\n"
     ]
    }
   ],
   "source": [
    "KNN = KNeighborsClassifier()\n",
    "model = KNN.fit(X_train, Y_train)\n",
    "predictions = model.predict(X_test)  # We predict the Ys of the test set the model we have created \n",
    "print \"Accuracy for test data is\", accuracy_score(Y_test, predictions)"
   ]
  },
  {
   "cell_type": "code",
   "execution_count": 37,
   "metadata": {
    "collapsed": true
   },
   "outputs": [],
   "source": [
    "# because we have reduced the dataset to 5000 samples we will perform normalization, scaling and PCA again for this dataset\n",
    "\n",
    "normalized_data5000 = normalizer.fit_transform(data5000)\n",
    "scaler = StandardScaler()\n",
    "scaled_data5000 = scaler.fit_transform(normalized_data5000)\n",
    "\n",
    "pca_data5000 = pca.fit_transform(data5000)"
   ]
  },
  {
   "cell_type": "code",
   "execution_count": 38,
   "metadata": {
    "collapsed": true
   },
   "outputs": [],
   "source": [
    "X_train, X_test, Y_train, Y_test = train_test_split(scaled_data5000, target5000, test_size=0.33, random_state=7)"
   ]
  },
  {
   "cell_type": "code",
   "execution_count": 39,
   "metadata": {},
   "outputs": [
    {
     "name": "stdout",
     "output_type": "stream",
     "text": [
      "Accuracy for test data is 0.880606060606\n"
     ]
    }
   ],
   "source": [
    "model = KNN.fit(X_train, Y_train)\n",
    "predictions = model.predict(X_test)  # We predict the Ys of the test set the model we have created \n",
    "print \"Accuracy for test data is\", accuracy_score(Y_test, predictions)"
   ]
  },
  {
   "cell_type": "code",
   "execution_count": 40,
   "metadata": {
    "collapsed": true
   },
   "outputs": [],
   "source": [
    "X_train, X_test, Y_train, Y_test = train_test_split(pca_data5000, target5000, test_size=0.33, random_state=7)"
   ]
  },
  {
   "cell_type": "code",
   "execution_count": 41,
   "metadata": {},
   "outputs": [
    {
     "name": "stdout",
     "output_type": "stream",
     "text": [
      "Accuracy for test data is 0.933333333333\n"
     ]
    }
   ],
   "source": [
    "model = KNN.fit(X_train, Y_train)\n",
    "predictions = model.predict(X_test)  # We predict the Ys of the test set the model we have created \n",
    "print \"Accuracy for test data is\", accuracy_score(Y_test, predictions)"
   ]
  },
  {
   "cell_type": "code",
   "execution_count": 42,
   "metadata": {},
   "outputs": [
    {
     "name": "stdout",
     "output_type": "stream",
     "text": [
      "{'n_neighbors': 5, 'metric': 'euclidean', 'weights': 'distance'}\n"
     ]
    }
   ],
   "source": [
    "# Try to find the best hyperparameters for KNN for the data which has been transformed with pca\n",
    "params = {\"n_neighbors\": np.arange(5,15,30), \"metric\": [\"euclidean\", \"cityblock\", \"minkowski\"], \"weights\": [\"uniform\", \"distance\"]}\n",
    "grid = GridSearchCV(KNN, params)\n",
    "grid.fit(X_train, (np.array(Y_train)).ravel())\n",
    "print grid.best_params_"
   ]
  },
  {
   "cell_type": "code",
   "execution_count": 44,
   "metadata": {},
   "outputs": [
    {
     "name": "stdout",
     "output_type": "stream",
     "text": [
      "Accuracy for test data is 0.936363636364\n"
     ]
    }
   ],
   "source": [
    "predictions = grid.predict(X_test)\n",
    "print \"Accuracy for test data is\", accuracy_score(Y_test, predictions)"
   ]
  },
  {
   "cell_type": "code",
   "execution_count": 49,
   "metadata": {},
   "outputs": [
    {
     "name": "stdout",
     "output_type": "stream",
     "text": [
      "0.903582089552\n"
     ]
    }
   ],
   "source": [
    "estimators = []\n",
    "model1 = RandomForestClassifier()\n",
    "estimators.append(('RM', model1))\n",
    "model2 = LinearDiscriminantAnalysis()\n",
    "estimators.append(('LDA', model2))\n",
    "model3 = KNeighborsClassifier()\n",
    "estimators.append(('KNN', model3))\n",
    "model4 = SVC()\n",
    "estimators.append(('SVM', model4))\n",
    "model5 = GaussianNB()\n",
    "estimators.append(('NB', model5))\n",
    "model6 = LogisticRegression()\n",
    "estimators.append(('LR', model6))\n",
    "ensemble = VotingClassifier(estimators)\n",
    "results = cross_val_score(ensemble, X_train, Y_train, cv=kfold)\n",
    "print(results.mean())"
   ]
  },
  {
   "cell_type": "markdown",
   "metadata": {},
   "source": [
    "### Step 8: Finalise Model\n",
    "\n",
    "##### Predictions on validation set, create model from the entire (training) dataset."
   ]
  },
  {
   "cell_type": "code",
   "execution_count": 46,
   "metadata": {},
   "outputs": [
    {
     "name": "stdout",
     "output_type": "stream",
     "text": [
      "Accuracy for test data is 0.936363636364\n"
     ]
    }
   ],
   "source": [
    "KNN_param = KNeighborsClassifier(n_neighbors = 5, metric = 'euclidean', weights = 'distance')\n",
    "model_param = KNN_param.fit(X_train, Y_train)\n",
    "predictions_param = KNN_param.predict(X_test)\n",
    "print \"Accuracy for test data is\", accuracy_score(Y_test, predictions_param)"
   ]
  },
  {
   "cell_type": "code",
   "execution_count": 47,
   "metadata": {
    "collapsed": true
   },
   "outputs": [],
   "source": [
    "model_param = KNN_param.fit(pca_data5000, target5000)"
   ]
  },
  {
   "cell_type": "code",
   "execution_count": 48,
   "metadata": {
    "collapsed": true
   },
   "outputs": [],
   "source": [
    "model_param_all = KNN_param.fit(data, target)"
   ]
  }
 ],
 "metadata": {
  "kernelspec": {
   "display_name": "Python 2",
   "language": "python",
   "name": "python2"
  },
  "language_info": {
   "codemirror_mode": {
    "name": "ipython",
    "version": 3
   },
   "file_extension": ".py",
   "mimetype": "text/x-python",
   "name": "python",
   "nbconvert_exporter": "python",
   "pygments_lexer": "ipython3",
   "version": "3.6.10"
  }
 },
 "nbformat": 4,
 "nbformat_minor": 2
}
